{
 "cells": [
  {
   "cell_type": "markdown",
   "id": "407acda9",
   "metadata": {},
   "source": [
    "# Introduction\n",
    "\n",
    "The following notebook is meant to visualise the steps taken to automatically register probes from probeinterface to histology dye stains.\n",
    "\n"
   ]
  },
  {
   "cell_type": "code",
   "execution_count": 1,
   "id": "ed668271",
   "metadata": {},
   "outputs": [],
   "source": [
    "# Setup\n",
    "import plotly.graph_objects as go\n",
    "import matplotlib.pyplot as plt\n",
    "import numpy as np\n",
    "import pandas as pd\n",
    "from importlib import reload\n",
    "from pathlib import Path\n",
    "from probe_auto_registration import probeinterface_tracing as pit"
   ]
  },
  {
   "cell_type": "code",
   "execution_count": 2,
   "id": "32f4f56c",
   "metadata": {},
   "outputs": [],
   "source": [
    "#load data\n",
    "reload(pit)\n",
    "subject_ID = 'EX03'\n",
    "brainreg_atlas_path = Path(f'../data/raw_data/histology/{subject_ID}/anat/allen_mouse_10um')\n",
    "data = pit.get_data(brainreg_atlas_path)"
   ]
  },
  {
   "cell_type": "markdown",
   "id": "761fe474",
   "metadata": {},
   "source": [
    "## mapping coordinates to allen brain space\n",
    "\n"
   ]
  },
  {
   "cell_type": "code",
   "execution_count": null,
   "id": "524ee658",
   "metadata": {},
   "outputs": [],
   "source": [
    "# let's map the labels and then the coordinates as well.\n",
    "\n",
    "threshold_signal = pit.threshold_signal_gamma(data['signal_data'])\n",
    "signal_df = pit.make_signal_df(data['signal_data'], threshold_signal)\n",
    "signal_df = pit.cluster_signal(signal_df, n_clusters=2)\n",
    "signal_df1 = signal_df[signal_df['cluster'] == 1]\n",
    "probe_df = pit.get_probe_contacts_df()\n",
    "fig = go.Figure()\n",
    "for cluster in [0,1]:\n",
    "    signal_cluster_df = signal_df[signal_df['cluster'] == cluster]\n",
    "    plane = pit.fit_plane_to_signal(signal_cluster_df)\n",
    "    results = pit.optimize_probe_plane(signal_cluster_df,probe_df,plane)\n",
    "    if results['result'].success:\n",
    "        print(f\"Fitted parameters: {results['result'].x}\")\n",
    "        pit.plot_3d(signal_cluster_df,results['coords'].values, fig=fig)"
   ]
  },
  {
   "cell_type": "code",
   "execution_count": 83,
   "id": "4c1fe439",
   "metadata": {},
   "outputs": [
    {
     "data": {
      "text/html": [
       "<pre style=\"white-space:pre;overflow-x:auto;line-height:normal;font-family:Menlo,'DejaVu Sans Mono',consolas,'Courier New',monospace\">Final atlas coordinates <span style=\"font-weight: bold\">(</span>voxels<span style=\"font-weight: bold\">)</span>: <span style=\"font-weight: bold\">[[</span><span style=\"color: #008080; text-decoration-color: #008080; font-weight: bold\">800.2066556</span>  <span style=\"color: #008080; text-decoration-color: #008080; font-weight: bold\">473.33564397</span> <span style=\"color: #008080; text-decoration-color: #008080; font-weight: bold\">263.86255455</span><span style=\"font-weight: bold\">]</span>\n",
       " <span style=\"font-weight: bold\">[</span><span style=\"color: #008080; text-decoration-color: #008080; font-weight: bold\">802.72408595</span> <span style=\"color: #008080; text-decoration-color: #008080; font-weight: bold\">472.83096319</span> <span style=\"color: #008080; text-decoration-color: #008080; font-weight: bold\">263.92052033</span><span style=\"font-weight: bold\">]</span>\n",
       " <span style=\"font-weight: bold\">[</span><span style=\"color: #008080; text-decoration-color: #008080; font-weight: bold\">799.91847553</span> <span style=\"color: #008080; text-decoration-color: #008080; font-weight: bold\">471.80852573</span> <span style=\"color: #008080; text-decoration-color: #008080; font-weight: bold\">264.01293261</span><span style=\"font-weight: bold\">]</span>\n",
       " <span style=\"color: #808000; text-decoration-color: #808000\">...</span>\n",
       " <span style=\"font-weight: bold\">[</span><span style=\"color: #008080; text-decoration-color: #008080; font-weight: bold\">803.1894047</span>  <span style=\"color: #008080; text-decoration-color: #008080; font-weight: bold\">149.63706591</span> <span style=\"color: #008080; text-decoration-color: #008080; font-weight: bold\">295.95562263</span><span style=\"font-weight: bold\">]</span>\n",
       " <span style=\"font-weight: bold\">[</span><span style=\"color: #008080; text-decoration-color: #008080; font-weight: bold\">800.38311527</span> <span style=\"color: #008080; text-decoration-color: #008080; font-weight: bold\">148.60670604</span> <span style=\"color: #008080; text-decoration-color: #008080; font-weight: bold\">296.04038382</span><span style=\"font-weight: bold\">]</span>\n",
       " <span style=\"font-weight: bold\">[</span><span style=\"color: #008080; text-decoration-color: #008080; font-weight: bold\">802.90028097</span> <span style=\"color: #008080; text-decoration-color: #008080; font-weight: bold\">148.10206734</span> <span style=\"color: #008080; text-decoration-color: #008080; font-weight: bold\">296.09838989</span><span style=\"font-weight: bold\">]]</span>\n",
       "</pre>\n"
      ],
      "text/plain": [
       "Final atlas coordinates \u001b[1m(\u001b[0mvoxels\u001b[1m)\u001b[0m: \u001b[1m[\u001b[0m\u001b[1m[\u001b[0m\u001b[1;36m800.2066556\u001b[0m  \u001b[1;36m473.33564397\u001b[0m \u001b[1;36m263.86255455\u001b[0m\u001b[1m]\u001b[0m\n",
       " \u001b[1m[\u001b[0m\u001b[1;36m802.72408595\u001b[0m \u001b[1;36m472.83096319\u001b[0m \u001b[1;36m263.92052033\u001b[0m\u001b[1m]\u001b[0m\n",
       " \u001b[1m[\u001b[0m\u001b[1;36m799.91847553\u001b[0m \u001b[1;36m471.80852573\u001b[0m \u001b[1;36m264.01293261\u001b[0m\u001b[1m]\u001b[0m\n",
       " \u001b[33m...\u001b[0m\n",
       " \u001b[1m[\u001b[0m\u001b[1;36m803.1894047\u001b[0m  \u001b[1;36m149.63706591\u001b[0m \u001b[1;36m295.95562263\u001b[0m\u001b[1m]\u001b[0m\n",
       " \u001b[1m[\u001b[0m\u001b[1;36m800.38311527\u001b[0m \u001b[1;36m148.60670604\u001b[0m \u001b[1;36m296.04038382\u001b[0m\u001b[1m]\u001b[0m\n",
       " \u001b[1m[\u001b[0m\u001b[1;36m802.90028097\u001b[0m \u001b[1;36m148.10206734\u001b[0m \u001b[1;36m296.09838989\u001b[0m\u001b[1m]\u001b[0m\u001b[1m]\u001b[0m\n"
      ]
     },
     "metadata": {},
     "output_type": "display_data"
    },
    {
     "data": {
      "text/html": [
       "<pre style=\"white-space:pre;overflow-x:auto;line-height:normal;font-family:Menlo,'DejaVu Sans Mono',consolas,'Courier New',monospace\">Final atlas coordinates <span style=\"font-weight: bold\">(</span>µm<span style=\"font-weight: bold\">)</span>: <span style=\"font-weight: bold\">[[</span><span style=\"color: #008080; text-decoration-color: #008080; font-weight: bold\">8002.06655595</span> <span style=\"color: #008080; text-decoration-color: #008080; font-weight: bold\">4733.3564397</span>  <span style=\"color: #008080; text-decoration-color: #008080; font-weight: bold\">2638.62554553</span><span style=\"font-weight: bold\">]</span>\n",
       " <span style=\"font-weight: bold\">[</span><span style=\"color: #008080; text-decoration-color: #008080; font-weight: bold\">8027.24085947</span> <span style=\"color: #008080; text-decoration-color: #008080; font-weight: bold\">4728.30963191</span> <span style=\"color: #008080; text-decoration-color: #008080; font-weight: bold\">2639.20520333</span><span style=\"font-weight: bold\">]</span>\n",
       " <span style=\"font-weight: bold\">[</span><span style=\"color: #008080; text-decoration-color: #008080; font-weight: bold\">7999.18475526</span> <span style=\"color: #008080; text-decoration-color: #008080; font-weight: bold\">4718.08525734</span> <span style=\"color: #008080; text-decoration-color: #008080; font-weight: bold\">2640.12932605</span><span style=\"font-weight: bold\">]</span>\n",
       " <span style=\"color: #808000; text-decoration-color: #808000\">...</span>\n",
       " <span style=\"font-weight: bold\">[</span><span style=\"color: #008080; text-decoration-color: #008080; font-weight: bold\">8031.89404704</span> <span style=\"color: #008080; text-decoration-color: #008080; font-weight: bold\">1496.37065908</span> <span style=\"color: #008080; text-decoration-color: #008080; font-weight: bold\">2959.55622633</span><span style=\"font-weight: bold\">]</span>\n",
       " <span style=\"font-weight: bold\">[</span><span style=\"color: #008080; text-decoration-color: #008080; font-weight: bold\">8003.83115267</span> <span style=\"color: #008080; text-decoration-color: #008080; font-weight: bold\">1486.0670604</span>  <span style=\"color: #008080; text-decoration-color: #008080; font-weight: bold\">2960.40383815</span><span style=\"font-weight: bold\">]</span>\n",
       " <span style=\"font-weight: bold\">[</span><span style=\"color: #008080; text-decoration-color: #008080; font-weight: bold\">8029.00280974</span> <span style=\"color: #008080; text-decoration-color: #008080; font-weight: bold\">1481.02067342</span> <span style=\"color: #008080; text-decoration-color: #008080; font-weight: bold\">2960.98389887</span><span style=\"font-weight: bold\">]]</span>\n",
       "</pre>\n"
      ],
      "text/plain": [
       "Final atlas coordinates \u001b[1m(\u001b[0mµm\u001b[1m)\u001b[0m: \u001b[1m[\u001b[0m\u001b[1m[\u001b[0m\u001b[1;36m8002.06655595\u001b[0m \u001b[1;36m4733.3564397\u001b[0m  \u001b[1;36m2638.62554553\u001b[0m\u001b[1m]\u001b[0m\n",
       " \u001b[1m[\u001b[0m\u001b[1;36m8027.24085947\u001b[0m \u001b[1;36m4728.30963191\u001b[0m \u001b[1;36m2639.20520333\u001b[0m\u001b[1m]\u001b[0m\n",
       " \u001b[1m[\u001b[0m\u001b[1;36m7999.18475526\u001b[0m \u001b[1;36m4718.08525734\u001b[0m \u001b[1;36m2640.12932605\u001b[0m\u001b[1m]\u001b[0m\n",
       " \u001b[33m...\u001b[0m\n",
       " \u001b[1m[\u001b[0m\u001b[1;36m8031.89404704\u001b[0m \u001b[1;36m1496.37065908\u001b[0m \u001b[1;36m2959.55622633\u001b[0m\u001b[1m]\u001b[0m\n",
       " \u001b[1m[\u001b[0m\u001b[1;36m8003.83115267\u001b[0m \u001b[1;36m1486.0670604\u001b[0m  \u001b[1;36m2960.40383815\u001b[0m\u001b[1m]\u001b[0m\n",
       " \u001b[1m[\u001b[0m\u001b[1;36m8029.00280974\u001b[0m \u001b[1;36m1481.02067342\u001b[0m \u001b[1;36m2960.98389887\u001b[0m\u001b[1m]\u001b[0m\u001b[1m]\u001b[0m\n"
      ]
     },
     "metadata": {},
     "output_type": "display_data"
    }
   ],
   "source": [
    "results['coords'].values\n",
    "\n",
    "import numpy as np\n",
    "import tifffile\n",
    "from scipy.ndimage import map_coordinates\n",
    "\n",
    "# ----- Step 1: Load transforms -----\n",
    "affine = data['affine_matrix'] # 4×4 matrix\n",
    "# Inverse affine or nonlinear outputs not used here\n",
    "\n",
    "# Assuming brainreg’s deformation fields (3 × TIFFs)\n",
    "def_field = np.stack((data['deformation_field_0'], \n",
    "                      data['deformation_field_1'], \n",
    "                      data['deformation_field_2']), axis=0)  # shape = (3, z, y, x)\n",
    "\n",
    "def sample_deformation(points_vox):\n",
    "    # points: (N,3) in (z, y, x)\n",
    "    coords = [points_vox[:,0], points_vox[:,1], points_vox[:,2]]\n",
    "    return np.stack([\n",
    "        map_coordinates(def_field[0], coords, order=1),\n",
    "        map_coordinates(def_field[1], coords, order=1),\n",
    "        map_coordinates(def_field[2], coords, order=1),\n",
    "    ], axis=1)\n",
    "\n",
    "# ----- Step 2: Your input points in reoriented/downsampled space -----\n",
    "input_pts =results['coords'].values\n",
    "\n",
    "# Apply affine: convert voxel (z,y,x) → add homogeneous → x, y, z\n",
    "pts_homog = np.hstack([\n",
    "    input_pts[:, ::-1],  # (z,y,x) → (x,y,z)\n",
    "    np.ones((len(input_pts), 1))\n",
    "])\n",
    "affine_out = (affine @ pts_homog.T).T  # (N,4)\n",
    "affine_vox_atlas = affine_out[:, :3][:, ::-1]  # back to (z,y,x) order if needed\n",
    "\n",
    "# ----- Step 3: Apply nonlinear warp (deformation fields) -----\n",
    "disp = sample_deformation(affine_vox_atlas)  # (N,3)\n",
    "# Decide: are they displacement or absolute? Assume displacement:\n",
    "atlas_vox = affine_vox_atlas + disp\n",
    "\n",
    "# Optional: convert voxel → µm using atlas voxel size (e.g., 10 µm)\n",
    "atlas_um = atlas_vox * 10.0\n",
    "\n",
    "print(\"Final atlas coordinates (voxels):\", atlas_vox)\n",
    "print(\"Final atlas coordinates (µm):\", atlas_um)"
   ]
  },
  {
   "cell_type": "code",
   "execution_count": 85,
   "id": "2090c02f",
   "metadata": {},
   "outputs": [
    {
     "data": {
      "text/html": [
       "<pre style=\"white-space:pre;overflow-x:auto;line-height:normal;font-family:Menlo,'DejaVu Sans Mono',consolas,'Courier New',monospace\"></pre>\n"
      ],
      "text/plain": []
     },
     "metadata": {},
     "output_type": "display_data"
    },
    {
     "data": {
      "text/plain": [
       "\n",
       "\u001b[1;35marray\u001b[0m\u001b[1m(\u001b[0m\u001b[1m[\u001b[0m\u001b[1m[\u001b[0m\u001b[1;36m8002.06655595\u001b[0m, \u001b[1;36m4733.3564397\u001b[0m , \u001b[1;36m2638.62554553\u001b[0m\u001b[1m]\u001b[0m,\n",
       "       \u001b[1m[\u001b[0m\u001b[1;36m8027.24085947\u001b[0m, \u001b[1;36m4728.30963191\u001b[0m, \u001b[1;36m2639.20520333\u001b[0m\u001b[1m]\u001b[0m,\n",
       "       \u001b[1m[\u001b[0m\u001b[1;36m7999.18475526\u001b[0m, \u001b[1;36m4718.08525734\u001b[0m, \u001b[1;36m2640.12932605\u001b[0m\u001b[1m]\u001b[0m,\n",
       "       \u001b[33m...\u001b[0m,\n",
       "       \u001b[1m[\u001b[0m\u001b[1;36m8031.89404704\u001b[0m, \u001b[1;36m1496.37065908\u001b[0m, \u001b[1;36m2959.55622633\u001b[0m\u001b[1m]\u001b[0m,\n",
       "       \u001b[1m[\u001b[0m\u001b[1;36m8003.83115267\u001b[0m, \u001b[1;36m1486.0670604\u001b[0m , \u001b[1;36m2960.40383815\u001b[0m\u001b[1m]\u001b[0m,\n",
       "       \u001b[1m[\u001b[0m\u001b[1;36m8029.00280974\u001b[0m, \u001b[1;36m1481.02067342\u001b[0m, \u001b[1;36m2960.98389887\u001b[0m\u001b[1m]\u001b[0m\u001b[1m]\u001b[0m, \u001b[33mshape\u001b[0m=\u001b[1m(\u001b[0m\u001b[1;36m1648\u001b[0m, \u001b[1;36m3\u001b[0m\u001b[1m)\u001b[0m\u001b[1m)\u001b[0m"
      ]
     },
     "execution_count": 85,
     "metadata": {},
     "output_type": "execute_result"
    }
   ],
   "source": [
    "def sample_coords_to_allen_space(points_array:np.array, \n",
    "                                 data:dict,\n",
    "                                 voxel_size:int = 10,\n",
    "                                ):\n",
    "    # 1. apply affine transformation\n",
    "    affine = data['affine_matrix'] # 4×4 matrix\n",
    "    pts_homog = np.hstack([ points_array[:, ::-1],  # (z,y,x) → (x,y,z)\n",
    "                            np.ones((len(points_array), 1))])\n",
    "    affine_out = (affine @ pts_homog.T).T  # (N,4)\n",
    "    affine_vox_atlas = affine_out[:, :3][:, ::-1]  # back to (z,y,x) for deformation\n",
    "    # 2. apply deformation field\n",
    "    coords = [affine_vox_atlas[:,i] for i in range(3)]\n",
    "    disp = np.stack([\n",
    "        map_coordinates(data['deformation_field_0'], coords, order=1),\n",
    "        map_coordinates(data['deformation_field_1'], coords, order=1),\n",
    "        map_coordinates(data['deformation_field_2'], coords, order=1),\n",
    "    ], axis=1)\n",
    "\n",
    "    atlas_vox = affine_vox_atlas + disp\n",
    "    atlas_um = atlas_vox * voxel_size\n",
    "    return atlas_um\n",
    "\n",
    "\n",
    "atlas_um = sample_coords_to_allen_space(results['coords'].values,\n",
    "data)\n",
    "atlas_um"
   ]
  },
  {
   "cell_type": "code",
   "execution_count": 79,
   "id": "81ad81e0",
   "metadata": {},
   "outputs": [
    {
     "data": {
      "text/plain": [
       "array(['Agranular insular area, posterior part, layer 2/3',\n",
       "       'Agranular insular area, posterior part, layer 5',\n",
       "       'Anterior area, layer 5',\n",
       "       'Anterior cingulate area, dorsal part, layer 6b',\n",
       "       'Area prostriata', 'Basolateral amygdalar nucleus, anterior part',\n",
       "       'Central medial nucleus of the thalamus', 'Crus 2',\n",
       "       'Cuneiform nucleus', 'Interfascicular nucleus raphe',\n",
       "       'Lateral vestibular nucleus', 'Laterointermediate area, layer 4',\n",
       "       'Medial mammillary nucleus, lateral part',\n",
       "       'Medial mammillary nucleus, median part', 'Pontine gray',\n",
       "       'Posterolateral visual area, layer 5', 'Postrhinal area, layer 4',\n",
       "       'Primary auditory area, layer 5',\n",
       "       'Primary auditory area, layer 6b', 'Pyramus (VIII)',\n",
       "       'Retrosplenial area, lateral agranular part, layer 5',\n",
       "       'Septofimbrial nucleus', 'Supraoculomotor periaqueductal gray',\n",
       "       'Tuberomammillary nucleus, ventral part',\n",
       "       'Ventral auditory area, layer 4', 'dorsal spinocerebellar tract',\n",
       "       'genu of corpus callosum', 'optic chiasm', 'outside brain',\n",
       "       'posterior commissure'], dtype='<U51')"
      ]
     },
     "execution_count": 79,
     "metadata": {},
     "output_type": "execute_result"
    }
   ],
   "source": [
    "volume_ids = []\n",
    "structure_names = []\n",
    "acronyms = []\n",
    "for each_coord in signal_df[['x','y','z']].values:\n",
    "    int_coords = [int(x) for x in each_coord]\n",
    "    volume_ids.append(data['atlas_registration_data'][int_coords[0],int_coords[1],int_coords[2]])\n",
    "    if volume_ids[-1]< len(data['volumes_df']):\n",
    "        \n",
    "        structure_names.append(data['volumes_df'].iloc[volume_ids[-1]].structure_name)\n",
    "        acronyms.append(ALLEN_NAMES2ACRONYM[structure_names[-1]])\n",
    "    else:\n",
    "        structure_names.append('outside brain')\n",
    "        acronyms.append(np.nan)\n",
    "\n",
    "np.unique(structure_names)"
   ]
  },
  {
   "cell_type": "markdown",
   "id": "3d092db3",
   "metadata": {},
   "source": []
  },
  {
   "cell_type": "code",
   "execution_count": 18,
   "id": "e74e3173",
   "metadata": {},
   "outputs": [
    {
     "data": {
      "text/html": [
       "<pre style=\"white-space:pre;overflow-x:auto;line-height:normal;font-family:Menlo,'DejaVu Sans Mono',consolas,'Courier New',monospace\"></pre>\n"
      ],
      "text/plain": []
     },
     "metadata": {},
     "output_type": "display_data"
    },
    {
     "data": {
      "text/html": [
       "<div>\n",
       "<style scoped>\n",
       "    .dataframe tbody tr th:only-of-type {\n",
       "        vertical-align: middle;\n",
       "    }\n",
       "\n",
       "    .dataframe tbody tr th {\n",
       "        vertical-align: top;\n",
       "    }\n",
       "\n",
       "    .dataframe thead th {\n",
       "        text-align: right;\n",
       "    }\n",
       "</style>\n",
       "<table border=\"1\" class=\"dataframe\">\n",
       "  <thead>\n",
       "    <tr style=\"text-align: right;\">\n",
       "      <th></th>\n",
       "      <th>structure_name</th>\n",
       "      <th>left_volume_mm3</th>\n",
       "      <th>right_volume_mm3</th>\n",
       "      <th>total_volume_mm3</th>\n",
       "    </tr>\n",
       "  </thead>\n",
       "  <tbody>\n",
       "    <tr>\n",
       "      <th>0</th>\n",
       "      <td>Tuberomammillary nucleus, ventral part</td>\n",
       "      <td>0.029499</td>\n",
       "      <td>0.026311</td>\n",
       "      <td>0.055810</td>\n",
       "    </tr>\n",
       "    <tr>\n",
       "      <th>1</th>\n",
       "      <td>Primary somatosensory area, mouth, layer 6b</td>\n",
       "      <td>0.045815</td>\n",
       "      <td>0.043552</td>\n",
       "      <td>0.089367</td>\n",
       "    </tr>\n",
       "    <tr>\n",
       "      <th>2</th>\n",
       "      <td>internal capsule</td>\n",
       "      <td>0.883631</td>\n",
       "      <td>0.957353</td>\n",
       "      <td>1.840984</td>\n",
       "    </tr>\n",
       "    <tr>\n",
       "      <th>3</th>\n",
       "      <td>Principal sensory nucleus of the trigeminal</td>\n",
       "      <td>0.562637</td>\n",
       "      <td>0.575630</td>\n",
       "      <td>1.138267</td>\n",
       "    </tr>\n",
       "    <tr>\n",
       "      <th>4</th>\n",
       "      <td>Primary somatosensory area, trunk, layer 6a</td>\n",
       "      <td>0.101296</td>\n",
       "      <td>0.054981</td>\n",
       "      <td>0.156277</td>\n",
       "    </tr>\n",
       "    <tr>\n",
       "      <th>...</th>\n",
       "      <td>...</td>\n",
       "      <td>...</td>\n",
       "      <td>...</td>\n",
       "      <td>...</td>\n",
       "    </tr>\n",
       "    <tr>\n",
       "      <th>666</th>\n",
       "      <td>Interpeduncular nucleus, intermediate</td>\n",
       "      <td>0.017865</td>\n",
       "      <td>0.019142</td>\n",
       "      <td>0.037007</td>\n",
       "    </tr>\n",
       "    <tr>\n",
       "      <th>667</th>\n",
       "      <td>Interpeduncular nucleus, dorsomedial</td>\n",
       "      <td>0.011747</td>\n",
       "      <td>0.012057</td>\n",
       "      <td>0.023804</td>\n",
       "    </tr>\n",
       "    <tr>\n",
       "      <th>668</th>\n",
       "      <td>Interpeduncular nucleus, dorsolateral</td>\n",
       "      <td>0.025637</td>\n",
       "      <td>0.026798</td>\n",
       "      <td>0.052435</td>\n",
       "    </tr>\n",
       "    <tr>\n",
       "      <th>669</th>\n",
       "      <td>Interpeduncular nucleus, rostrolateral</td>\n",
       "      <td>0.009801</td>\n",
       "      <td>0.010563</td>\n",
       "      <td>0.020364</td>\n",
       "    </tr>\n",
       "    <tr>\n",
       "      <th>670</th>\n",
       "      <td>Supraoculomotor periaqueductal gray</td>\n",
       "      <td>0.023343</td>\n",
       "      <td>0.023636</td>\n",
       "      <td>0.046979</td>\n",
       "    </tr>\n",
       "  </tbody>\n",
       "</table>\n",
       "<p>671 rows × 4 columns</p>\n",
       "</div>"
      ],
      "text/plain": [
       "\n",
       "                                  structure_name  left_volume_mm3  \\\n",
       "\u001b[1;36m0\u001b[0m         Tuberomammillary nucleus, ventral part         \u001b[1;36m0.029499\u001b[0m   \n",
       "\u001b[1;36m1\u001b[0m    Primary somatosensory area, mouth, layer 6b         \u001b[1;36m0.045815\u001b[0m   \n",
       "\u001b[1;36m2\u001b[0m                               internal capsule         \u001b[1;36m0.883631\u001b[0m   \n",
       "\u001b[1;36m3\u001b[0m    Principal sensory nucleus of the trigeminal         \u001b[1;36m0.562637\u001b[0m   \n",
       "\u001b[1;36m4\u001b[0m    Primary somatosensory area, trunk, layer 6a         \u001b[1;36m0.101296\u001b[0m   \n",
       "..                                           \u001b[33m...\u001b[0m              \u001b[33m...\u001b[0m   \n",
       "\u001b[1;36m666\u001b[0m        Interpeduncular nucleus, intermediate         \u001b[1;36m0.017865\u001b[0m   \n",
       "\u001b[1;36m667\u001b[0m         Interpeduncular nucleus, dorsomedial         \u001b[1;36m0.011747\u001b[0m   \n",
       "\u001b[1;36m668\u001b[0m        Interpeduncular nucleus, dorsolateral         \u001b[1;36m0.025637\u001b[0m   \n",
       "\u001b[1;36m669\u001b[0m       Interpeduncular nucleus, rostrolateral         \u001b[1;36m0.009801\u001b[0m   \n",
       "\u001b[1;36m670\u001b[0m          Supraoculomotor periaqueductal gray         \u001b[1;36m0.023343\u001b[0m   \n",
       "\n",
       "     right_volume_mm3  total_volume_mm3  \n",
       "\u001b[1;36m0\u001b[0m            \u001b[1;36m0.026311\u001b[0m          \u001b[1;36m0.055810\u001b[0m  \n",
       "\u001b[1;36m1\u001b[0m            \u001b[1;36m0.043552\u001b[0m          \u001b[1;36m0.089367\u001b[0m  \n",
       "\u001b[1;36m2\u001b[0m            \u001b[1;36m0.957353\u001b[0m          \u001b[1;36m1.840984\u001b[0m  \n",
       "\u001b[1;36m3\u001b[0m            \u001b[1;36m0.575630\u001b[0m          \u001b[1;36m1.138267\u001b[0m  \n",
       "\u001b[1;36m4\u001b[0m            \u001b[1;36m0.054981\u001b[0m          \u001b[1;36m0.156277\u001b[0m  \n",
       "..                \u001b[33m...\u001b[0m               \u001b[33m...\u001b[0m  \n",
       "\u001b[1;36m666\u001b[0m          \u001b[1;36m0.019142\u001b[0m          \u001b[1;36m0.037007\u001b[0m  \n",
       "\u001b[1;36m667\u001b[0m          \u001b[1;36m0.012057\u001b[0m          \u001b[1;36m0.023804\u001b[0m  \n",
       "\u001b[1;36m668\u001b[0m          \u001b[1;36m0.026798\u001b[0m          \u001b[1;36m0.052435\u001b[0m  \n",
       "\u001b[1;36m669\u001b[0m          \u001b[1;36m0.010563\u001b[0m          \u001b[1;36m0.020364\u001b[0m  \n",
       "\u001b[1;36m670\u001b[0m          \u001b[1;36m0.023636\u001b[0m          \u001b[1;36m0.046979\u001b[0m  \n",
       "\n",
       "\u001b[1m[\u001b[0m\u001b[1;36m671\u001b[0m rows x \u001b[1;36m4\u001b[0m columns\u001b[1m]\u001b[0m"
      ]
     },
     "execution_count": 18,
     "metadata": {},
     "output_type": "execute_result"
    }
   ],
   "source": [
    "atlas_structure_key = pd.read_csv('./probe_auto_registration/allen_brain_atlas_info.htsv', sep='\\t', index_col=0)\n",
    "data['volumes_df']"
   ]
  },
  {
   "cell_type": "code",
   "execution_count": 42,
   "id": "86921993",
   "metadata": {},
   "outputs": [
    {
     "data": {
      "text/html": [
       "<pre style=\"white-space:pre;overflow-x:auto;line-height:normal;font-family:Menlo,'DejaVu Sans Mono',consolas,'Courier New',monospace\"></pre>\n"
      ],
      "text/plain": []
     },
     "metadata": {},
     "output_type": "display_data"
    },
    {
     "data": {
      "text/html": [
       "<div>\n",
       "<style scoped>\n",
       "    .dataframe tbody tr th:only-of-type {\n",
       "        vertical-align: middle;\n",
       "    }\n",
       "\n",
       "    .dataframe tbody tr th {\n",
       "        vertical-align: top;\n",
       "    }\n",
       "\n",
       "    .dataframe thead th {\n",
       "        text-align: right;\n",
       "    }\n",
       "</style>\n",
       "<table border=\"1\" class=\"dataframe\">\n",
       "  <thead>\n",
       "    <tr style=\"text-align: right;\">\n",
       "      <th></th>\n",
       "      <th>structure_name</th>\n",
       "      <th>left_volume_mm3</th>\n",
       "      <th>right_volume_mm3</th>\n",
       "      <th>total_volume_mm3</th>\n",
       "      <th>acronym</th>\n",
       "    </tr>\n",
       "  </thead>\n",
       "  <tbody>\n",
       "    <tr>\n",
       "      <th>0</th>\n",
       "      <td>Tuberomammillary nucleus, ventral part</td>\n",
       "      <td>0.029499</td>\n",
       "      <td>0.026311</td>\n",
       "      <td>0.055810</td>\n",
       "      <td>TMv</td>\n",
       "    </tr>\n",
       "    <tr>\n",
       "      <th>1</th>\n",
       "      <td>Primary somatosensory area, mouth, layer 6b</td>\n",
       "      <td>0.045815</td>\n",
       "      <td>0.043552</td>\n",
       "      <td>0.089367</td>\n",
       "      <td>SSp-m6b</td>\n",
       "    </tr>\n",
       "    <tr>\n",
       "      <th>2</th>\n",
       "      <td>internal capsule</td>\n",
       "      <td>0.883631</td>\n",
       "      <td>0.957353</td>\n",
       "      <td>1.840984</td>\n",
       "      <td>int</td>\n",
       "    </tr>\n",
       "    <tr>\n",
       "      <th>3</th>\n",
       "      <td>Principal sensory nucleus of the trigeminal</td>\n",
       "      <td>0.562637</td>\n",
       "      <td>0.575630</td>\n",
       "      <td>1.138267</td>\n",
       "      <td>PSV</td>\n",
       "    </tr>\n",
       "    <tr>\n",
       "      <th>4</th>\n",
       "      <td>Primary somatosensory area, trunk, layer 6a</td>\n",
       "      <td>0.101296</td>\n",
       "      <td>0.054981</td>\n",
       "      <td>0.156277</td>\n",
       "      <td>SSp-tr6a</td>\n",
       "    </tr>\n",
       "    <tr>\n",
       "      <th>...</th>\n",
       "      <td>...</td>\n",
       "      <td>...</td>\n",
       "      <td>...</td>\n",
       "      <td>...</td>\n",
       "      <td>...</td>\n",
       "    </tr>\n",
       "    <tr>\n",
       "      <th>666</th>\n",
       "      <td>Interpeduncular nucleus, intermediate</td>\n",
       "      <td>0.017865</td>\n",
       "      <td>0.019142</td>\n",
       "      <td>0.037007</td>\n",
       "      <td>IPI</td>\n",
       "    </tr>\n",
       "    <tr>\n",
       "      <th>667</th>\n",
       "      <td>Interpeduncular nucleus, dorsomedial</td>\n",
       "      <td>0.011747</td>\n",
       "      <td>0.012057</td>\n",
       "      <td>0.023804</td>\n",
       "      <td>IPDM</td>\n",
       "    </tr>\n",
       "    <tr>\n",
       "      <th>668</th>\n",
       "      <td>Interpeduncular nucleus, dorsolateral</td>\n",
       "      <td>0.025637</td>\n",
       "      <td>0.026798</td>\n",
       "      <td>0.052435</td>\n",
       "      <td>IPDL</td>\n",
       "    </tr>\n",
       "    <tr>\n",
       "      <th>669</th>\n",
       "      <td>Interpeduncular nucleus, rostrolateral</td>\n",
       "      <td>0.009801</td>\n",
       "      <td>0.010563</td>\n",
       "      <td>0.020364</td>\n",
       "      <td>IPRL</td>\n",
       "    </tr>\n",
       "    <tr>\n",
       "      <th>670</th>\n",
       "      <td>Supraoculomotor periaqueductal gray</td>\n",
       "      <td>0.023343</td>\n",
       "      <td>0.023636</td>\n",
       "      <td>0.046979</td>\n",
       "      <td>Su3</td>\n",
       "    </tr>\n",
       "  </tbody>\n",
       "</table>\n",
       "<p>671 rows × 5 columns</p>\n",
       "</div>"
      ],
      "text/plain": [
       "\n",
       "                                  structure_name  left_volume_mm3  \\\n",
       "\u001b[1;36m0\u001b[0m         Tuberomammillary nucleus, ventral part         \u001b[1;36m0.029499\u001b[0m   \n",
       "\u001b[1;36m1\u001b[0m    Primary somatosensory area, mouth, layer 6b         \u001b[1;36m0.045815\u001b[0m   \n",
       "\u001b[1;36m2\u001b[0m                               internal capsule         \u001b[1;36m0.883631\u001b[0m   \n",
       "\u001b[1;36m3\u001b[0m    Principal sensory nucleus of the trigeminal         \u001b[1;36m0.562637\u001b[0m   \n",
       "\u001b[1;36m4\u001b[0m    Primary somatosensory area, trunk, layer 6a         \u001b[1;36m0.101296\u001b[0m   \n",
       "..                                           \u001b[33m...\u001b[0m              \u001b[33m...\u001b[0m   \n",
       "\u001b[1;36m666\u001b[0m        Interpeduncular nucleus, intermediate         \u001b[1;36m0.017865\u001b[0m   \n",
       "\u001b[1;36m667\u001b[0m         Interpeduncular nucleus, dorsomedial         \u001b[1;36m0.011747\u001b[0m   \n",
       "\u001b[1;36m668\u001b[0m        Interpeduncular nucleus, dorsolateral         \u001b[1;36m0.025637\u001b[0m   \n",
       "\u001b[1;36m669\u001b[0m       Interpeduncular nucleus, rostrolateral         \u001b[1;36m0.009801\u001b[0m   \n",
       "\u001b[1;36m670\u001b[0m          Supraoculomotor periaqueductal gray         \u001b[1;36m0.023343\u001b[0m   \n",
       "\n",
       "     right_volume_mm3  total_volume_mm3   acronym  \n",
       "\u001b[1;36m0\u001b[0m            \u001b[1;36m0.026311\u001b[0m          \u001b[1;36m0.055810\u001b[0m       TMv  \n",
       "\u001b[1;36m1\u001b[0m            \u001b[1;36m0.043552\u001b[0m          \u001b[1;36m0.089367\u001b[0m   SSp-m6b  \n",
       "\u001b[1;36m2\u001b[0m            \u001b[1;36m0.957353\u001b[0m          \u001b[1;36m1.840984\u001b[0m       int  \n",
       "\u001b[1;36m3\u001b[0m            \u001b[1;36m0.575630\u001b[0m          \u001b[1;36m1.138267\u001b[0m       PSV  \n",
       "\u001b[1;36m4\u001b[0m            \u001b[1;36m0.054981\u001b[0m          \u001b[1;36m0.156277\u001b[0m  SSp-tr6a  \n",
       "..                \u001b[33m...\u001b[0m               \u001b[33m...\u001b[0m       \u001b[33m...\u001b[0m  \n",
       "\u001b[1;36m666\u001b[0m          \u001b[1;36m0.019142\u001b[0m          \u001b[1;36m0.037007\u001b[0m       IPI  \n",
       "\u001b[1;36m667\u001b[0m          \u001b[1;36m0.012057\u001b[0m          \u001b[1;36m0.023804\u001b[0m      IPDM  \n",
       "\u001b[1;36m668\u001b[0m          \u001b[1;36m0.026798\u001b[0m          \u001b[1;36m0.052435\u001b[0m      IPDL  \n",
       "\u001b[1;36m669\u001b[0m          \u001b[1;36m0.010563\u001b[0m          \u001b[1;36m0.020364\u001b[0m      IPRL  \n",
       "\u001b[1;36m670\u001b[0m          \u001b[1;36m0.023636\u001b[0m          \u001b[1;36m0.046979\u001b[0m       Su3  \n",
       "\n",
       "\u001b[1m[\u001b[0m\u001b[1;36m671\u001b[0m rows x \u001b[1;36m5\u001b[0m columns\u001b[1m]\u001b[0m"
      ]
     },
     "execution_count": 42,
     "metadata": {},
     "output_type": "execute_result"
    }
   ],
   "source": [
    "volumes_df = data['volumes_df']\n",
    "name2acronym = dict(zip(atlas_structure_key.name,atlas_structure_key.acronym))\n",
    "volumes_df['acronym'] = volumes_df['structure_name'].apply(lambda x: name2acronym[x])\n",
    "volumes_df"
   ]
  },
  {
   "cell_type": "code",
   "execution_count": 43,
   "id": "62398a93",
   "metadata": {},
   "outputs": [],
   "source": [
    "import json\n",
    "\n",
    "with open('./probe_auto_registration/allen_name2acronym.json', 'w') as f:\n",
    "    json.dump(name2acronym, f, indent=2)"
   ]
  },
  {
   "cell_type": "code",
   "execution_count": null,
   "id": "11011844",
   "metadata": {},
   "outputs": [],
   "source": []
  },
  {
   "cell_type": "markdown",
   "id": "a7bb34e5",
   "metadata": {},
   "source": [
    "## plotting and animating with brainrender\n"
   ]
  },
  {
   "cell_type": "code",
   "execution_count": null,
   "id": "9268dd49",
   "metadata": {},
   "outputs": [
    {
     "data": {
      "text/html": [
       "<pre style=\"white-space:pre;overflow-x:auto;line-height:normal;font-family:Menlo,'DejaVu Sans Mono',consolas,'Courier New',monospace\"><span style=\"color: #ffca28; text-decoration-color: #ffca28\">Saving video in </span><span style=\"color: #ffa726; text-decoration-color: #ffa726\">../results/brainrender</span>\n",
       "</pre>\n"
      ],
      "text/plain": [
       "\u001b[38;2;255;202;40mSaving video in \u001b[0m\u001b[38;2;255;167;38m..\u001b[0m\u001b[38;2;255;167;38m/results/\u001b[0m\u001b[38;2;255;167;38mbrainrender\u001b[0m\n"
      ]
     },
     "metadata": {},
     "output_type": "display_data"
    },
    {
     "name": "stdout",
     "output_type": "stream",
     "text": [
      "\u001b[1m\u001b[35m📽  Video file brainrender_animation is open... \u001b[0m"
     ]
    },
    {
     "data": {
      "application/vnd.jupyter.widget-view+json": {
       "model_id": "6677fd52c4d34aa48080976525733025",
       "version_major": 2,
       "version_minor": 0
      },
      "text/plain": [
       "Output()"
      ]
     },
     "metadata": {},
     "output_type": "display_data"
    },
    {
     "data": {
      "text/html": [
       "<pre style=\"white-space:pre;overflow-x:auto;line-height:normal;font-family:Menlo,'DejaVu Sans Mono',consolas,'Courier New',monospace\"></pre>\n"
      ],
      "text/plain": []
     },
     "metadata": {},
     "output_type": "display_data"
    },
    {
     "data": {
      "text/html": [
       "<pre style=\"white-space:pre;overflow-x:auto;line-height:normal;font-family:Menlo,'DejaVu Sans Mono',consolas,'Courier New',monospace\"><span style=\"color: #ffe082; text-decoration-color: #ffe082\">Saving video</span>\n",
       "</pre>\n"
      ],
      "text/plain": [
       "\u001b[38;2;255;224;130mSaving video\u001b[0m\n"
      ]
     },
     "metadata": {},
     "output_type": "display_data"
    },
    {
     "data": {
      "text/html": [
       "<pre style=\"white-space:pre;overflow-x:auto;line-height:normal;font-family:Menlo,'DejaVu Sans Mono',consolas,'Courier New',monospace\"><span style=\"color: #ffca28; text-decoration-color: #ffca28\">Saved video at: </span><span style=\"color: #ffa726; text-decoration-color: #ffa726; font-weight: bold\">../results/brainrender/brainrender_animation.mp4</span>\n",
       "</pre>\n"
      ],
      "text/plain": [
       "\u001b[38;2;255;202;40mSaved video at: \u001b[0m\u001b[1;38;2;255;167;38m..\u001b[0m\u001b[1;38;2;255;167;38m/results/brainrender/\u001b[0m\u001b[1;38;2;255;167;38mbrainrender_animation.mp4\u001b[0m\n"
      ]
     },
     "metadata": {},
     "output_type": "display_data"
    },
    {
     "data": {
      "text/html": [
       "<pre style=\"white-space:pre;overflow-x:auto;line-height:normal;font-family:Menlo,'DejaVu Sans Mono',consolas,'Courier New',monospace\"></pre>\n"
      ],
      "text/plain": []
     },
     "metadata": {},
     "output_type": "display_data"
    },
    {
     "data": {
      "text/plain": [
       "\u001b[32m'../results/brainrender/brainrender_animation.mp4'\u001b[0m"
      ]
     },
     "execution_count": 88,
     "metadata": {},
     "output_type": "execute_result"
    }
   ],
   "source": [
    "\n",
    "from pathlib import Path\n",
    "\n",
    "from myterial import orange\n",
    "from rich import print\n",
    "\n",
    "from brainrender import Animation, Scene\n",
    "from brainrender.actors import Points\n",
    "\n",
    "output_path = Path(\"../results/brainrender/\")\n",
    "\n",
    "scene = Scene(atlas_name=\"allen_mouse_10um\")\n",
    "\n",
    "regions = (\n",
    "    \"CA1\",\"CA3\",\n",
    ")\n",
    "scene.add_brain_region(*regions, silhouette=True, alpha=0.3)\n",
    "scene.add(Points(atlas_um,\n",
    "        name=\"probe_1\",\n",
    "        colors=\"darkred\",\n",
    "        radius=50))\n",
    "\n",
    "anim = Animation(scene, output_path, \"brainrender_animation\")\n",
    "\n",
    "# Specify camera position and zoom at some key frames\n",
    "# each key frame defines the scene's state after n seconds have passed\n",
    "anim.add_keyframe(0, camera=\"top\", zoom=1)\n",
    "anim.add_keyframe(1.5, camera=\"sagittal\", zoom=0.95)\n",
    "anim.add_keyframe(3, camera=\"frontal\", zoom=1)\n",
    "anim.add_keyframe(4, camera=\"frontal\", zoom=1.2)\n",
    "\n",
    "# Make videos\n",
    "anim.make_video(duration=5, fps=15, resetcam=True)"
   ]
  },
  {
   "cell_type": "code",
   "execution_count": 7,
   "id": "27f8dce0",
   "metadata": {},
   "outputs": [
    {
     "data": {
      "text/html": [
       "<pre style=\"white-space:pre;overflow-x:auto;line-height:normal;font-family:Menlo,'DejaVu Sans Mono',consolas,'Courier New',monospace\"><span style=\"color: #ffca28; text-decoration-color: #ffca28\">Saving video in </span><span style=\"color: #ffa726; text-decoration-color: #ffa726\">/ceph/behrens/georgy_antonov/Explore_exploit/experiment/code</span>\n",
       "</pre>\n"
      ],
      "text/plain": [
       "\u001b[38;2;255;202;40mSaving video in \u001b[0m\u001b[38;2;255;167;38m/ceph/behrens/georgy_antonov/Explore_exploit/experiment/\u001b[0m\u001b[38;2;255;167;38mcode\u001b[0m\n"
      ]
     },
     "metadata": {},
     "output_type": "display_data"
    },
    {
     "name": "stdout",
     "output_type": "stream",
     "text": [
      "\u001b[1m\u001b[35m📽  Video file brainrender_animation_callback is open... \u001b[0m"
     ]
    },
    {
     "data": {
      "application/vnd.jupyter.widget-view+json": {
       "model_id": "4da9795a75644072bc2eff6bd6105c45",
       "version_major": 2,
       "version_minor": 0
      },
      "text/plain": [
       "Output()"
      ]
     },
     "metadata": {},
     "output_type": "display_data"
    },
    {
     "data": {
      "text/html": [
       "<pre style=\"white-space:pre;overflow-x:auto;line-height:normal;font-family:Menlo,'DejaVu Sans Mono',consolas,'Courier New',monospace\"></pre>\n"
      ],
      "text/plain": []
     },
     "metadata": {},
     "output_type": "display_data"
    },
    {
     "data": {
      "text/html": [
       "<pre style=\"white-space:pre;overflow-x:auto;line-height:normal;font-family:Menlo,'DejaVu Sans Mono',consolas,'Courier New',monospace\"><span style=\"color: #ffe082; text-decoration-color: #ffe082\">Saving video</span>\n",
       "</pre>\n"
      ],
      "text/plain": [
       "\u001b[38;2;255;224;130mSaving video\u001b[0m\n"
      ]
     },
     "metadata": {},
     "output_type": "display_data"
    },
    {
     "data": {
      "text/html": [
       "<pre style=\"white-space:pre;overflow-x:auto;line-height:normal;font-family:Menlo,'DejaVu Sans Mono',consolas,'Courier New',monospace\"><span style=\"color: #ffca28; text-decoration-color: #ffca28\">Saved video at: </span><span style=\"color: #ffa726; text-decoration-color: #ffa726; font-weight: bold\">/ceph/behrens/georgy_antonov/Explore_exploit/experiment/code/brainrender_animation_callback.mp4</span>\n",
       "</pre>\n"
      ],
      "text/plain": [
       "\u001b[38;2;255;202;40mSaved video at: \u001b[0m\u001b[1;38;2;255;167;38m/ceph/behrens/georgy_antonov/Explore_exploit/experiment/code/\u001b[0m\u001b[1;38;2;255;167;38mbrainrender_animation_callback.mp4\u001b[0m\n"
      ]
     },
     "metadata": {},
     "output_type": "display_data"
    },
    {
     "data": {
      "text/html": [
       "<pre style=\"white-space:pre;overflow-x:auto;line-height:normal;font-family:Menlo,'DejaVu Sans Mono',consolas,'Courier New',monospace\"></pre>\n"
      ],
      "text/plain": []
     },
     "metadata": {},
     "output_type": "display_data"
    },
    {
     "data": {
      "text/plain": [
       "\u001b[32m'/ceph/behrens/georgy_antonov/Explore_exploit/experiment/code/brainrender_animation_callback.mp4'\u001b[0m"
      ]
     },
     "execution_count": 7,
     "metadata": {},
     "output_type": "execute_result"
    }
   ],
   "source": [
    "from brainrender import Animation, Scene, settings\n",
    "from pathlib import Path\n",
    "\n",
    "settings.SHOW_AXES = False\n",
    "\n",
    "scene = Scene(atlas_name=\"allen_mouse_10um\")\n",
    "\n",
    "regions = (\n",
    "    \"CTX\",\n",
    "    \"HPF\",\n",
    "    \"STR\",\n",
    "    \"CB\",\n",
    "    \"MB\",\n",
    "    \"TH\",\n",
    "    \"HY\",\n",
    ")\n",
    "scene.add_brain_region(*regions, silhouette=True)\n",
    "\n",
    "\n",
    "def slc(scene, framen, totframes):\n",
    "    # Get new slicing plane\n",
    "    fact = framen / totframes\n",
    "    shape_um = scene.atlas.shape_um\n",
    "    # Multiply by fact to move the plane, add buffer to go past the brain\n",
    "    point = [(shape_um[0] + 500) * fact, shape_um[1] // 2, shape_um[2] // 2]\n",
    "    plane = scene.atlas.get_plane(pos=point, norm=(1, 0, 0))\n",
    "\n",
    "    scene.slice(plane)\n",
    "\n",
    "\n",
    "anim = Animation(\n",
    "    scene, Path.cwd(), \"brainrender_animation_callback\", size=None\n",
    ")\n",
    "\n",
    "# Specify camera pos and zoom at some key frames`\n",
    "anim.add_keyframe(0, camera=\"frontal\", zoom=1, callback=slc)\n",
    "\n",
    "# Make videos\n",
    "anim.make_video(duration=5, fps=10, fix_camera=True)"
   ]
  },
  {
   "cell_type": "code",
   "execution_count": 5,
   "id": "8a01d01a",
   "metadata": {},
   "outputs": [
    {
     "name": "stderr",
     "output_type": "stream",
     "text": [
      "\u001b[0m\u001b[33m2025-08-11 15:33:37.555 ( 167.437s) [    7F7575576740]vtkXOpenGLRenderWindow.:1458  WARN| bad X server connection. DISPLAY=\u001b[0m\n",
      "[2025-08-11 15:34:54,103] INFO in helpers: Converting int64 array to int32 for JS compatibility.\n",
      "[2025-08-11 15:34:54,181] INFO in helpers: Converting int64 array to int32 for JS compatibility.\n",
      "[2025-08-11 15:34:54,211] INFO in helpers: Converting int64 array to int32 for JS compatibility.\n",
      "[2025-08-11 15:34:54,220] INFO in helpers: Converting int64 array to int32 for JS compatibility.\n",
      "[2025-08-11 15:34:54,222] INFO in helpers: Converting int64 array to int32 for JS compatibility.\n",
      "[2025-08-11 15:34:54,224] INFO in helpers: Converting int64 array to int32 for JS compatibility.\n"
     ]
    },
    {
     "data": {
      "text/html": [
       "<pre style=\"white-space:pre;overflow-x:auto;line-height:normal;font-family:Menlo,'DejaVu Sans Mono',consolas,'Courier New',monospace\">The brainrender scene has been exported for web. The results are saved at \n",
       "..<span style=\"color: #800080; text-decoration-color: #800080\">/results/brainrender/</span><span style=\"color: #ff00ff; text-decoration-color: #ff00ff\">test_brain_regions.html</span>\n",
       "</pre>\n"
      ],
      "text/plain": [
       "The brainrender scene has been exported for web. The results are saved at \n",
       "..\u001b[35m/results/brainrender/\u001b[0m\u001b[95mtest_brain_regions.html\u001b[0m\n"
      ]
     },
     "metadata": {},
     "output_type": "display_data"
    },
    {
     "data": {
      "text/html": [
       "<pre style=\"white-space:pre;overflow-x:auto;line-height:normal;font-family:Menlo,'DejaVu Sans Mono',consolas,'Courier New',monospace\"></pre>\n"
      ],
      "text/plain": []
     },
     "metadata": {},
     "output_type": "display_data"
    },
    {
     "data": {
      "text/plain": [
       "\u001b[32m'../results/brainrender/test_brain_regions.html'\u001b[0m"
      ]
     },
     "execution_count": 5,
     "metadata": {},
     "output_type": "execute_result"
    }
   ],
   "source": [
    "## testing brainrender\n",
    "\n",
    "import brainrender as br\n",
    "\n",
    "scene = br.Scene(title=\"Silicon Probe Visualization\", \n",
    "                 atlas_name = \"allen_mouse_10um\")\n",
    "\n",
    "# Visualise the probe target regions\n",
    "cp = scene.add_brain_region(\"CP\", alpha=0.15)\n",
    "rsp = scene.add_brain_region(\"RSP\", alpha=0.15)\n",
    "\n",
    "# Add probes to the scene.\n",
    "# Each .npy file should contain a numpy array with the coordinates of each\n",
    "\n",
    "\n",
    "# render\n",
    "scene.export(\"../results/brainrender/test_brain_regions.html\")"
   ]
  },
  {
   "cell_type": "code",
   "execution_count": 9,
   "id": "41e6f7a9",
   "metadata": {},
   "outputs": [
    {
     "data": {
      "text/html": [
       "<pre style=\"white-space:pre;overflow-x:auto;line-height:normal;font-family:Menlo,'DejaVu Sans Mono',consolas,'Courier New',monospace\"><span style=\"color: #ffca28; text-decoration-color: #ffca28\">Saving video in </span><span style=\"color: #ffa726; text-decoration-color: #ffa726\">/ceph/behrens/georgy_antonov/Explore_exploit/experiment/code</span>\n",
       "</pre>\n"
      ],
      "text/plain": [
       "\u001b[38;2;255;202;40mSaving video in \u001b[0m\u001b[38;2;255;167;38m/ceph/behrens/georgy_antonov/Explore_exploit/experiment/\u001b[0m\u001b[38;2;255;167;38mcode\u001b[0m\n"
      ]
     },
     "metadata": {},
     "output_type": "display_data"
    },
    {
     "name": "stdout",
     "output_type": "stream",
     "text": [
      "\u001b[1m\u001b[35m📽  Video file brainrender_animation is open... \u001b[0m"
     ]
    },
    {
     "data": {
      "application/vnd.jupyter.widget-view+json": {
       "model_id": "247f8082f1824eca911cdb0a5599eb82",
       "version_major": 2,
       "version_minor": 0
      },
      "text/plain": [
       "Output()"
      ]
     },
     "metadata": {},
     "output_type": "display_data"
    },
    {
     "data": {
      "text/html": [
       "<pre style=\"white-space:pre;overflow-x:auto;line-height:normal;font-family:Menlo,'DejaVu Sans Mono',consolas,'Courier New',monospace\"></pre>\n"
      ],
      "text/plain": []
     },
     "metadata": {},
     "output_type": "display_data"
    },
    {
     "data": {
      "text/html": [
       "<pre style=\"white-space:pre;overflow-x:auto;line-height:normal;font-family:Menlo,'DejaVu Sans Mono',consolas,'Courier New',monospace\"><span style=\"color: #ffe082; text-decoration-color: #ffe082\">Saving video</span>\n",
       "</pre>\n"
      ],
      "text/plain": [
       "\u001b[38;2;255;224;130mSaving video\u001b[0m\n"
      ]
     },
     "metadata": {},
     "output_type": "display_data"
    },
    {
     "data": {
      "text/html": [
       "<pre style=\"white-space:pre;overflow-x:auto;line-height:normal;font-family:Menlo,'DejaVu Sans Mono',consolas,'Courier New',monospace\"><span style=\"color: #ffca28; text-decoration-color: #ffca28\">Saved video at: </span><span style=\"color: #ffa726; text-decoration-color: #ffa726; font-weight: bold\">/ceph/behrens/georgy_antonov/Explore_exploit/experiment/code/brainrender_animation.mp4</span>\n",
       "</pre>\n"
      ],
      "text/plain": [
       "\u001b[38;2;255;202;40mSaved video at: \u001b[0m\u001b[1;38;2;255;167;38m/ceph/behrens/georgy_antonov/Explore_exploit/experiment/code/\u001b[0m\u001b[1;38;2;255;167;38mbrainrender_animation.mp4\u001b[0m\n"
      ]
     },
     "metadata": {},
     "output_type": "display_data"
    },
    {
     "data": {
      "text/html": [
       "<pre style=\"white-space:pre;overflow-x:auto;line-height:normal;font-family:Menlo,'DejaVu Sans Mono',consolas,'Courier New',monospace\"></pre>\n"
      ],
      "text/plain": []
     },
     "metadata": {},
     "output_type": "display_data"
    },
    {
     "data": {
      "text/plain": [
       "\u001b[32m'/ceph/behrens/georgy_antonov/Explore_exploit/experiment/code/brainrender_animation.mp4'\u001b[0m"
      ]
     },
     "execution_count": 9,
     "metadata": {},
     "output_type": "execute_result"
    }
   ],
   "source": [
    "\"\"\"\n",
    "This example shows how to create an animated video by specifying\n",
    "the camera parameters at a number of key frames\n",
    "\"\"\"\n",
    "\n",
    "from pathlib import Path\n",
    "\n",
    "from brainrender import Animation, Scene\n",
    "\n",
    "# Create a brainrender scene\n",
    "scene = Scene(title=\"brain regions\",atlas_name = \"allen_mouse_10um\", inset=False)\n",
    "\n",
    "# Add brain regions\n",
    "scene.add_brain_region(\"TH\")\n",
    "\n",
    "anim = Animation(scene, Path.cwd(), \"brainrender_animation\")\n",
    "\n",
    "# Specify camera position and zoom at some key frames\n",
    "# each key frame defines the scene's state after n seconds have passed\n",
    "anim.add_keyframe(0, camera=\"top\", zoom=1)\n",
    "anim.add_keyframe(1.5, camera=\"sagittal\", zoom=0.95)\n",
    "anim.add_keyframe(3, camera=\"frontal\", zoom=1)\n",
    "anim.add_keyframe(4, camera=\"frontal\", zoom=1.2)\n",
    "\n",
    "# Make videos\n",
    "anim.make_video(duration=5, fps=15, resetcam=True)"
   ]
  }
 ],
 "metadata": {
  "kernelspec": {
   "display_name": "Python 3 (ipykernel)",
   "language": "python",
   "name": "python3"
  },
  "language_info": {
   "codemirror_mode": {
    "name": "ipython",
    "version": 3
   },
   "file_extension": ".py",
   "mimetype": "text/x-python",
   "name": "python",
   "nbconvert_exporter": "python",
   "pygments_lexer": "ipython3",
   "version": "3.11.13"
  }
 },
 "nbformat": 4,
 "nbformat_minor": 5
}
